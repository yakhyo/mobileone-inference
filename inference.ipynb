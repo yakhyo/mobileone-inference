{
 "cells": [
  {
   "cell_type": "markdown",
   "metadata": {},
   "source": [
    "## MobileOne: An Improved One millisecond Mobile Backbone\n",
    "\n",
    "Contents:\n",
    "- [Re-parameterize](#initialize-the-model-with-pre-trained-model-weights-before-re-parameterization)\n",
    "- [Inference](#model-inference-using-fused-re-parameterized-model)"
   ]
  },
  {
   "cell_type": "code",
   "execution_count": 12,
   "metadata": {},
   "outputs": [],
   "source": [
    "from PIL import Image\n",
    "\n",
    "import torch\n",
    "from torchvision import transforms\n",
    "from assets.meta import IMAGENET_CATEGORIES\n",
    "from models import (\n",
    "    mobileone_s0,\n",
    "    mobileone_s1,\n",
    "    mobileone_s2,\n",
    "    mobileone_s3,\n",
    "    mobileone_s4,\n",
    "    reparameterize_model\n",
    ")"
   ]
  },
  {
   "cell_type": "markdown",
   "metadata": {},
   "source": [
    "#### Initialize the model with pre-trained model weights (before re-parameterization)"
   ]
  },
  {
   "cell_type": "code",
   "execution_count": 3,
   "metadata": {},
   "outputs": [
    {
     "name": "stderr",
     "output_type": "stream",
     "text": [
      "INFO: Pre-trained weights successfully loaded.\n"
     ]
    }
   ],
   "source": [
    "model = mobileone_s0(pretrained=True)"
   ]
  },
  {
   "cell_type": "code",
   "execution_count": 4,
   "metadata": {},
   "outputs": [],
   "source": [
    "model.eval() # change to evaluation mode\n",
    "reparam_model = reparameterize_model(model)  # re-parameterize model"
   ]
  },
  {
   "cell_type": "code",
   "execution_count": 5,
   "metadata": {},
   "outputs": [],
   "source": [
    "torch.save(reparam_model.state_dict(), \"weights/s0_fused.pt\") # save re-parameterized model"
   ]
  },
  {
   "cell_type": "markdown",
   "metadata": {},
   "source": [
    "### Model Inference using fused (re-parameterized) model"
   ]
  },
  {
   "cell_type": "code",
   "execution_count": 6,
   "metadata": {},
   "outputs": [
    {
     "name": "stderr",
     "output_type": "stream",
     "text": [
      "INFO: Creating model without pre-trained weights.\n"
     ]
    },
    {
     "data": {
      "text/plain": [
       "<All keys matched successfully>"
      ]
     },
     "execution_count": 6,
     "metadata": {},
     "output_type": "execute_result"
    }
   ],
   "source": [
    "device = torch.device(\"cuda\" if torch.cuda.is_available() else \"cpu\")\n",
    "model = mobileone_s0(inference_mode=True) # initialize the model in inference mode\n",
    "\n",
    "# load re-parameterized model weights\n",
    "model.load_state_dict(torch.load(\"weights/s0_fused.pt\", map_location=device, weights_only=True))"
   ]
  },
  {
   "cell_type": "code",
   "execution_count": 7,
   "metadata": {},
   "outputs": [],
   "source": [
    "def preprocess_image(image_path):\n",
    "    transform = transforms.Compose([\n",
    "        transforms.Resize((224, 224)),  # Resize the image to match the model's input size\n",
    "        transforms.ToTensor(),  # Convert the image to a PyTorch tensor\n",
    "        transforms.Normalize(\n",
    "            mean=[0.485, 0.456, 0.406],  # Normalize the image using the mean and std of ImageNet\n",
    "            std=[0.229, 0.224, 0.225]\n",
    "        ),\n",
    "    ])\n",
    "\n",
    "    image = Image.open(image_path)\n",
    "    image = transform(image).unsqueeze(0)  # Add a batch dimension\n",
    "    return image"
   ]
  },
  {
   "cell_type": "code",
   "execution_count": 15,
   "metadata": {},
   "outputs": [
    {
     "name": "stdout",
     "output_type": "stream",
     "text": [
      "Predicted class label: tabby, Confidence: 0.8457\n",
      "Predicted class label: tiger cat, Confidence: 0.1194\n",
      "Predicted class label: Egyptian cat, Confidence: 0.0275\n",
      "Predicted class label: lynx, Confidence: 0.0007\n",
      "Predicted class label: printer, Confidence: 0.0003\n"
     ]
    }
   ],
   "source": [
    "def inference(model, image_path):\n",
    "    model.eval()\n",
    "\n",
    "    input_image = preprocess_image(image_path)\n",
    "    with torch.no_grad():\n",
    "        output = model(input_image)\n",
    "\n",
    "    # Get the top 5 predictions and their confidence scores\n",
    "    probabilities = torch.nn.functional.softmax(output, dim=1)\n",
    "    top5_prob, top5_catid = torch.topk(probabilities, 5)\n",
    "\n",
    "    for i in range(top5_prob.size(1)):\n",
    "        predicted_label = IMAGENET_CATEGORIES[top5_catid[0][i].item()]\n",
    "        confidence = top5_prob[0][i].item()\n",
    "        print(f\"Predicted class label: {predicted_label}, Confidence: {confidence:.4f}\")\n",
    "\n",
    "inference(model, \"assets/tabby_cat.jpg\")"
   ]
  },
  {
   "cell_type": "code",
   "execution_count": null,
   "metadata": {},
   "outputs": [],
   "source": []
  }
 ],
 "metadata": {
  "kernelspec": {
   "display_name": "torch",
   "language": "python",
   "name": "python3"
  },
  "language_info": {
   "codemirror_mode": {
    "name": "ipython",
    "version": 3
   },
   "file_extension": ".py",
   "mimetype": "text/x-python",
   "name": "python",
   "nbconvert_exporter": "python",
   "pygments_lexer": "ipython3",
   "version": "3.10.14"
  }
 },
 "nbformat": 4,
 "nbformat_minor": 2
}
